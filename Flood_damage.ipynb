{
 "cells": [
  {
   "cell_type": "code",
   "execution_count": null,
   "metadata": {
    "id": "4YjhxZodgw5G"
   },
   "outputs": [],
   "source": [
    "import os\n",
    "import zipfile\n",
    "import random\n",
    "import numpy as np\n",
    "import matplotlib.pyplot as plt\n",
    "import cv2\n",
    "import tensorflow as tf\n",
    "from tensorflow import keras\n",
    "from tensorflow.keras.optimizers import RMSprop,Adam\n",
    "from tensorflow.keras.preprocessing.image import ImageDataGenerator\n",
    "from tensorflow.keras.preprocessing import image\n",
    "import tensorflow_hub as hub"
   ]
  },
  {
   "cell_type": "code",
   "execution_count": null,
   "metadata": {
    "id": "W3mcxUXvhcUd"
   },
   "outputs": [],
   "source": [
    "wearing_masks = '//content//datas.zip'\n",
    "local_zip = wearing_masks\n",
    "zip_ref = zipfile.ZipFile(local_zip, 'r')\n",
    "zip_ref.extractall('/tmp')\n",
    "zip_ref.close()"
   ]
  },
  {
   "cell_type": "code",
   "execution_count": null,
   "metadata": {
    "id": "vw2tC1mhhxhi"
   },
   "outputs": [],
   "source": [
    "img_shape = 224\n",
    "train = ImageDataGenerator(rescale=1/255,\n",
    "    rotation_range=5,\n",
    "    width_shift_range=0.2, height_shift_range=0.2,\n",
    "    shear_range=0.2,\n",
    "\tzoom_range=0.15,\n",
    "\thorizontal_flip=True\n",
    "  )\n",
    "validation = ImageDataGenerator(rescale=1/255,\n",
    "    rotation_range=5,\n",
    "    width_shift_range=0.2, height_shift_range=0.2,\n",
    "    shear_range=0.2,\n",
    "\tzoom_range=0.15,\n",
    "\thorizontal_flip=True\n",
    "  )\n"
   ]
  },
  {
   "cell_type": "code",
   "execution_count": null,
   "metadata": {
    "colab": {
     "base_uri": "https://localhost:8080/"
    },
    "id": "7pbSE7s2hzyO",
    "outputId": "f10475a2-28db-44f1-8233-a27298ccab20"
   },
   "outputs": [
    {
     "name": "stdout",
     "output_type": "stream",
     "text": [
      "Found 6000 images belonging to 2 classes.\n",
      "Found 2000 images belonging to 2 classes.\n"
     ]
    }
   ],
   "source": [
    "train_path = '/tmp/datas/train'\n",
    "validation_path = '/tmp/datas/test'\n",
    "train_datagen = train.flow_from_directory(train_path,\n",
    "                                          batch_size = 32,\n",
    "                                          target_size = (img_shape,img_shape),\n",
    "                                          class_mode = \"binary\")\n",
    "validation_datagen = validation.flow_from_directory(validation_path,\n",
    "                                          batch_size = 32,\n",
    "                                          target_size = (img_shape,img_shape),\n",
    "                                          class_mode = \"binary\")"
   ]
  },
  {
   "cell_type": "code",
   "execution_count": null,
   "metadata": {
    "colab": {
     "base_uri": "https://localhost:8080/"
    },
    "id": "XTNY2mf0iELP",
    "outputId": "bc681b47-5dc6-41ae-f06c-b2a3d689c6c2"
   },
   "outputs": [
    {
     "data": {
      "text/plain": [
       "{'damage': 0, 'no_damage': 1}"
      ]
     },
     "execution_count": 7,
     "metadata": {},
     "output_type": "execute_result"
    }
   ],
   "source": [
    "train_datagen.class_indices"
   ]
  },
  {
   "cell_type": "code",
   "execution_count": null,
   "metadata": {
    "id": "rnTt8H40iPnw"
   },
   "outputs": [],
   "source": [
    "class myCallback(tf.keras.callbacks.Callback):\n",
    "    def on_epoch_end(self,epoch,logs={}):\n",
    "        if(logs.get('val_acc')>=0.95):\n",
    "            print(\"\\nRequired accuracy is reached\")\n",
    "            self.model.stop_training= True\n",
    "callbacks=myCallback()"
   ]
  },
  {
   "cell_type": "markdown",
   "metadata": {
    "id": "_fuwCSbuiYns"
   },
   "source": [
    "#CNN DNN"
   ]
  },
  {
   "cell_type": "code",
   "execution_count": null,
   "metadata": {
    "id": "-Fpsxbweiems"
   },
   "outputs": [],
   "source": [
    "model = keras.Sequential([keras.layers.Conv2D(1028,(3,3),activation='relu',input_shape=(train_datagen[0][0].shape[1:])),\n",
    "keras.layers.MaxPooling2D(2,2),\n",
    "keras.layers.Dropout(0.2),\n",
    "keras.layers.Conv2D(516,(3,3),activation='relu'),\n",
    "keras.layers.MaxPooling2D(2,2),\n",
    "keras.layers.Dropout(0.2),\n",
    "keras.layers.Flatten(),\n",
    "keras.layers.Dense(128,activation= 'relu'),\n",
    "keras.layers.Dense(1,activation='sigmoid')\n",
    "])"
   ]
  },
  {
   "cell_type": "markdown",
   "metadata": {
    "id": "jXqW-DH2jmCS"
   },
   "source": [
    "#RESNET50"
   ]
  },
  {
   "cell_type": "code",
   "execution_count": null,
   "metadata": {
    "colab": {
     "base_uri": "https://localhost:8080/"
    },
    "id": "z6vBgqchihFP",
    "outputId": "c92b659b-dfc6-4287-a96b-7358537e9191"
   },
   "outputs": [
    {
     "name": "stdout",
     "output_type": "stream",
     "text": [
      "Downloading data from https://storage.googleapis.com/tensorflow/keras-applications/resnet/resnet50v2_weights_tf_dim_ordering_tf_kernels_notop.h5\n",
      "94674944/94668760 [==============================] - 1s 0us/step\n",
      "94683136/94668760 [==============================] - 1s 0us/step\n"
     ]
    }
   ],
   "source": [
    "from tensorflow.keras.applications import ResNet50V2\n",
    "from keras import layers\n",
    "from tensorflow.keras.layers import Input\n",
    "\n",
    "#Resnet50\n",
    "feature_extractor_layer = ResNet50V2(weights=\"imagenet\", include_top=False,\n",
    "\tinput_tensor=Input(shape=(img_shape,img_shape,3)))\n",
    "\n",
    "feature_extractor_layer.trainable = False\n",
    "\n",
    "model = tf.keras.Sequential([\n",
    "    feature_extractor_layer,\n",
    "    layers.Flatten(name=\"flatten\"),\n",
    "    layers.Dense(1028, activation='relu', name='hidden_layer'),\n",
    "    layers.Dropout(0.3),\n",
    "    layers.Dense(1, activation='sigmoid', name='output')\n",
    "])"
   ]
  },
  {
   "cell_type": "code",
   "execution_count": null,
   "metadata": {
    "colab": {
     "base_uri": "https://localhost:8080/"
    },
    "id": "MXkSr0Cxj9dq",
    "outputId": "7f9e4037-4a7f-4bc8-be8c-38ccc6582c84"
   },
   "outputs": [
    {
     "name": "stderr",
     "output_type": "stream",
     "text": [
      "/usr/local/lib/python3.7/dist-packages/keras/optimizer_v2/adam.py:105: UserWarning: The `lr` argument is deprecated, use `learning_rate` instead.\n",
      "  super(Adam, self).__init__(name, **kwargs)\n"
     ]
    }
   ],
   "source": [
    "model.compile(loss = 'binary_crossentropy', optimizer= Adam(lr=0.001),metrics=['acc'])"
   ]
  },
  {
   "cell_type": "code",
   "execution_count": null,
   "metadata": {
    "colab": {
     "base_uri": "https://localhost:8080/"
    },
    "id": "IL715MYELpqr",
    "outputId": "df7a337d-7d3a-4162-aa15-e521442bf343"
   },
   "outputs": [
    {
     "name": "stdout",
     "output_type": "stream",
     "text": [
      "Model: \"sequential_1\"\n",
      "_________________________________________________________________\n",
      " Layer (type)                Output Shape              Param #   \n",
      "=================================================================\n",
      " resnet50v2 (Functional)     (None, 7, 7, 2048)        23564800  \n",
      "                                                                 \n",
      " flatten (Flatten)           (None, 100352)            0         \n",
      "                                                                 \n",
      " hidden_layer (Dense)        (None, 1028)              103162884 \n",
      "                                                                 \n",
      " dropout_2 (Dropout)         (None, 1028)              0         \n",
      "                                                                 \n",
      " output (Dense)              (None, 1)                 1029      \n",
      "                                                                 \n",
      "=================================================================\n",
      "Total params: 126,728,713\n",
      "Trainable params: 103,163,913\n",
      "Non-trainable params: 23,564,800\n",
      "_________________________________________________________________\n"
     ]
    }
   ],
   "source": [
    "model.summary()"
   ]
  },
  {
   "cell_type": "code",
   "execution_count": null,
   "metadata": {
    "colab": {
     "base_uri": "https://localhost:8080/"
    },
    "id": "Nkw5z9gTkD8j",
    "outputId": "0e055ddb-b375-44de-96a0-e888cbd9eb06"
   },
   "outputs": [
    {
     "name": "stdout",
     "output_type": "stream",
     "text": [
      "Epoch 1/100\n",
      "5/5 - 40s - loss: 14.7351 - acc: 0.5750 - val_loss: 8.6401 - val_acc: 0.7705 - 40s/epoch - 8s/step\n",
      "Epoch 2/100\n",
      "5/5 - 30s - loss: 9.4097 - acc: 0.7375 - val_loss: 6.4677 - val_acc: 0.7775 - 30s/epoch - 6s/step\n",
      "Epoch 3/100\n",
      "5/5 - 30s - loss: 8.8862 - acc: 0.7437 - val_loss: 4.4599 - val_acc: 0.8365 - 30s/epoch - 6s/step\n",
      "Epoch 4/100\n",
      "5/5 - 30s - loss: 2.6171 - acc: 0.8875 - val_loss: 7.4031 - val_acc: 0.7715 - 30s/epoch - 6s/step\n",
      "Epoch 5/100\n",
      "5/5 - 30s - loss: 4.0813 - acc: 0.8562 - val_loss: 3.0665 - val_acc: 0.8745 - 30s/epoch - 6s/step\n",
      "Epoch 6/100\n",
      "5/5 - 30s - loss: 2.4897 - acc: 0.8750 - val_loss: 3.4609 - val_acc: 0.8475 - 30s/epoch - 6s/step\n",
      "Epoch 7/100\n",
      "5/5 - 30s - loss: 2.2611 - acc: 0.8938 - val_loss: 2.2993 - val_acc: 0.8695 - 30s/epoch - 6s/step\n",
      "Epoch 8/100\n",
      "5/5 - 30s - loss: 1.2842 - acc: 0.8813 - val_loss: 2.2715 - val_acc: 0.8600 - 30s/epoch - 6s/step\n",
      "Epoch 9/100\n",
      "5/5 - 29s - loss: 1.2845 - acc: 0.9125 - val_loss: 1.8443 - val_acc: 0.8755 - 29s/epoch - 6s/step\n",
      "Epoch 10/100\n",
      "5/5 - 30s - loss: 1.4004 - acc: 0.8750 - val_loss: 1.7293 - val_acc: 0.8705 - 30s/epoch - 6s/step\n",
      "Epoch 11/100\n",
      "5/5 - 30s - loss: 0.9193 - acc: 0.9125 - val_loss: 1.6457 - val_acc: 0.8750 - 30s/epoch - 6s/step\n",
      "Epoch 12/100\n",
      "5/5 - 30s - loss: 1.1022 - acc: 0.8938 - val_loss: 1.3859 - val_acc: 0.8775 - 30s/epoch - 6s/step\n",
      "Epoch 13/100\n",
      "5/5 - 30s - loss: 0.7103 - acc: 0.9187 - val_loss: 1.4610 - val_acc: 0.8820 - 30s/epoch - 6s/step\n",
      "Epoch 14/100\n",
      "5/5 - 30s - loss: 0.3362 - acc: 0.9250 - val_loss: 1.3210 - val_acc: 0.8960 - 30s/epoch - 6s/step\n",
      "Epoch 15/100\n",
      "5/5 - 29s - loss: 0.2120 - acc: 0.9563 - val_loss: 1.3005 - val_acc: 0.8890 - 29s/epoch - 6s/step\n",
      "Epoch 16/100\n",
      "5/5 - 30s - loss: 0.6505 - acc: 0.9250 - val_loss: 1.4185 - val_acc: 0.8705 - 30s/epoch - 6s/step\n",
      "Epoch 17/100\n",
      "5/5 - 29s - loss: 0.8894 - acc: 0.9062 - val_loss: 1.2086 - val_acc: 0.8850 - 29s/epoch - 6s/step\n",
      "Epoch 18/100\n",
      "5/5 - 29s - loss: 0.6347 - acc: 0.9375 - val_loss: 1.0802 - val_acc: 0.8935 - 29s/epoch - 6s/step\n",
      "Epoch 19/100\n",
      "5/5 - 29s - loss: 0.3448 - acc: 0.9500 - val_loss: 1.0762 - val_acc: 0.8860 - 29s/epoch - 6s/step\n",
      "Epoch 20/100\n",
      "5/5 - 29s - loss: 1.3840 - acc: 0.8750 - val_loss: 1.5595 - val_acc: 0.8630 - 29s/epoch - 6s/step\n",
      "Epoch 21/100\n",
      "5/5 - 29s - loss: 0.6814 - acc: 0.9000 - val_loss: 1.1827 - val_acc: 0.8635 - 29s/epoch - 6s/step\n",
      "Epoch 22/100\n",
      "5/5 - 29s - loss: 0.6217 - acc: 0.9312 - val_loss: 0.8277 - val_acc: 0.8945 - 29s/epoch - 6s/step\n",
      "Epoch 23/100\n",
      "5/5 - 29s - loss: 0.7895 - acc: 0.9062 - val_loss: 0.8336 - val_acc: 0.8850 - 29s/epoch - 6s/step\n",
      "Epoch 24/100\n",
      "5/5 - 29s - loss: 0.3523 - acc: 0.9187 - val_loss: 0.9049 - val_acc: 0.8665 - 29s/epoch - 6s/step\n",
      "Epoch 25/100\n",
      "5/5 - 29s - loss: 0.3177 - acc: 0.9187 - val_loss: 0.7937 - val_acc: 0.8770 - 29s/epoch - 6s/step\n",
      "Epoch 26/100\n",
      "5/5 - 29s - loss: 0.1757 - acc: 0.9500 - val_loss: 0.8346 - val_acc: 0.8740 - 29s/epoch - 6s/step\n",
      "Epoch 27/100\n",
      "5/5 - 29s - loss: 0.5518 - acc: 0.8875 - val_loss: 0.6525 - val_acc: 0.8965 - 29s/epoch - 6s/step\n",
      "Epoch 28/100\n",
      "5/5 - 29s - loss: 0.1694 - acc: 0.9625 - val_loss: 0.7563 - val_acc: 0.8805 - 29s/epoch - 6s/step\n",
      "Epoch 29/100\n",
      "5/5 - 29s - loss: 0.5718 - acc: 0.9125 - val_loss: 0.4935 - val_acc: 0.8990 - 29s/epoch - 6s/step\n",
      "Epoch 30/100\n",
      "5/5 - 29s - loss: 0.3029 - acc: 0.9375 - val_loss: 0.5303 - val_acc: 0.8945 - 29s/epoch - 6s/step\n",
      "Epoch 31/100\n",
      "5/5 - 29s - loss: 0.2291 - acc: 0.9438 - val_loss: 0.4807 - val_acc: 0.9030 - 29s/epoch - 6s/step\n",
      "Epoch 32/100\n",
      "5/5 - 29s - loss: 0.1029 - acc: 0.9688 - val_loss: 0.4652 - val_acc: 0.9060 - 29s/epoch - 6s/step\n",
      "Epoch 33/100\n",
      "5/5 - 29s - loss: 0.1905 - acc: 0.9312 - val_loss: 0.4723 - val_acc: 0.8945 - 29s/epoch - 6s/step\n",
      "Epoch 34/100\n",
      "5/5 - 28s - loss: 0.2046 - acc: 0.9583 - val_loss: 0.4400 - val_acc: 0.8955 - 28s/epoch - 6s/step\n",
      "Epoch 35/100\n",
      "5/5 - 29s - loss: 0.1284 - acc: 0.9438 - val_loss: 0.4096 - val_acc: 0.9055 - 29s/epoch - 6s/step\n",
      "Epoch 36/100\n",
      "5/5 - 29s - loss: 0.1892 - acc: 0.9250 - val_loss: 0.4063 - val_acc: 0.8955 - 29s/epoch - 6s/step\n",
      "Epoch 37/100\n",
      "5/5 - 29s - loss: 0.2884 - acc: 0.9125 - val_loss: 0.4013 - val_acc: 0.8970 - 29s/epoch - 6s/step\n",
      "Epoch 38/100\n",
      "5/5 - 29s - loss: 0.1828 - acc: 0.9563 - val_loss: 0.3590 - val_acc: 0.9065 - 29s/epoch - 6s/step\n",
      "Epoch 39/100\n",
      "5/5 - 29s - loss: 0.1466 - acc: 0.9250 - val_loss: 0.3547 - val_acc: 0.9020 - 29s/epoch - 6s/step\n",
      "Epoch 40/100\n",
      "5/5 - 29s - loss: 0.1252 - acc: 0.9500 - val_loss: 0.3412 - val_acc: 0.9010 - 29s/epoch - 6s/step\n",
      "Epoch 41/100\n",
      "5/5 - 29s - loss: 0.1694 - acc: 0.9438 - val_loss: 0.2993 - val_acc: 0.9095 - 29s/epoch - 6s/step\n",
      "Epoch 42/100\n",
      "5/5 - 29s - loss: 0.0921 - acc: 0.9688 - val_loss: 0.3647 - val_acc: 0.9050 - 29s/epoch - 6s/step\n",
      "Epoch 43/100\n",
      "5/5 - 29s - loss: 0.1501 - acc: 0.9312 - val_loss: 0.3219 - val_acc: 0.9075 - 29s/epoch - 6s/step\n",
      "Epoch 44/100\n",
      "5/5 - 29s - loss: 0.1424 - acc: 0.9438 - val_loss: 0.2968 - val_acc: 0.9060 - 29s/epoch - 6s/step\n",
      "Epoch 45/100\n",
      "5/5 - 29s - loss: 0.1591 - acc: 0.9250 - val_loss: 0.3302 - val_acc: 0.9020 - 29s/epoch - 6s/step\n",
      "Epoch 46/100\n",
      "5/5 - 29s - loss: 0.1588 - acc: 0.9500 - val_loss: 0.3533 - val_acc: 0.9115 - 29s/epoch - 6s/step\n",
      "Epoch 47/100\n",
      "5/5 - 29s - loss: 0.0756 - acc: 0.9688 - val_loss: 0.3771 - val_acc: 0.9090 - 29s/epoch - 6s/step\n",
      "Epoch 48/100\n",
      "5/5 - 29s - loss: 0.1927 - acc: 0.9125 - val_loss: 0.3882 - val_acc: 0.8830 - 29s/epoch - 6s/step\n",
      "Epoch 49/100\n",
      "5/5 - 29s - loss: 0.1619 - acc: 0.9062 - val_loss: 0.3612 - val_acc: 0.9050 - 29s/epoch - 6s/step\n",
      "Epoch 50/100\n",
      "5/5 - 28s - loss: 0.1170 - acc: 0.9438 - val_loss: 0.3621 - val_acc: 0.9000 - 28s/epoch - 6s/step\n",
      "Epoch 51/100\n",
      "5/5 - 29s - loss: 0.1088 - acc: 0.9563 - val_loss: 0.3754 - val_acc: 0.9010 - 29s/epoch - 6s/step\n",
      "Epoch 52/100\n",
      "5/5 - 29s - loss: 0.1823 - acc: 0.9438 - val_loss: 0.3558 - val_acc: 0.9005 - 29s/epoch - 6s/step\n",
      "Epoch 53/100\n",
      "5/5 - 28s - loss: 0.1059 - acc: 0.9625 - val_loss: 0.3518 - val_acc: 0.9025 - 28s/epoch - 6s/step\n",
      "Epoch 54/100\n",
      "5/5 - 28s - loss: 0.2432 - acc: 0.9500 - val_loss: 0.3430 - val_acc: 0.8970 - 28s/epoch - 6s/step\n",
      "Epoch 55/100\n",
      "5/5 - 29s - loss: 0.2233 - acc: 0.9250 - val_loss: 0.3290 - val_acc: 0.9075 - 29s/epoch - 6s/step\n",
      "Epoch 56/100\n",
      "5/5 - 29s - loss: 0.1879 - acc: 0.9438 - val_loss: 0.3444 - val_acc: 0.8955 - 29s/epoch - 6s/step\n",
      "Epoch 57/100\n",
      "5/5 - 29s - loss: 0.2099 - acc: 0.9250 - val_loss: 0.3664 - val_acc: 0.8975 - 29s/epoch - 6s/step\n",
      "Epoch 58/100\n",
      "5/5 - 29s - loss: 0.0595 - acc: 0.9750 - val_loss: 0.3567 - val_acc: 0.9055 - 29s/epoch - 6s/step\n",
      "Epoch 59/100\n",
      "5/5 - 28s - loss: 0.2572 - acc: 0.9250 - val_loss: 0.3912 - val_acc: 0.8830 - 28s/epoch - 6s/step\n",
      "Epoch 60/100\n",
      "5/5 - 29s - loss: 0.3252 - acc: 0.8938 - val_loss: 0.3169 - val_acc: 0.8975 - 29s/epoch - 6s/step\n",
      "Epoch 61/100\n",
      "5/5 - 29s - loss: 0.0998 - acc: 0.9750 - val_loss: 0.4029 - val_acc: 0.8940 - 29s/epoch - 6s/step\n",
      "Epoch 62/100\n",
      "5/5 - 28s - loss: 0.1173 - acc: 0.9625 - val_loss: 0.3725 - val_acc: 0.8995 - 28s/epoch - 6s/step\n",
      "Epoch 63/100\n",
      "5/5 - 28s - loss: 0.1162 - acc: 0.9688 - val_loss: 0.3164 - val_acc: 0.9050 - 28s/epoch - 6s/step\n",
      "Epoch 64/100\n",
      "5/5 - 28s - loss: 0.1459 - acc: 0.9563 - val_loss: 0.3104 - val_acc: 0.9050 - 28s/epoch - 6s/step\n",
      "Epoch 65/100\n",
      "5/5 - 29s - loss: 0.1039 - acc: 0.9688 - val_loss: 0.3421 - val_acc: 0.9020 - 29s/epoch - 6s/step\n",
      "Epoch 66/100\n",
      "5/5 - 29s - loss: 0.1973 - acc: 0.9250 - val_loss: 0.3084 - val_acc: 0.9080 - 29s/epoch - 6s/step\n",
      "Epoch 67/100\n",
      "5/5 - 28s - loss: 0.1881 - acc: 0.9375 - val_loss: 0.3174 - val_acc: 0.9025 - 28s/epoch - 6s/step\n",
      "Epoch 68/100\n",
      "5/5 - 28s - loss: 0.1455 - acc: 0.9625 - val_loss: 0.3062 - val_acc: 0.9045 - 28s/epoch - 6s/step\n",
      "Epoch 69/100\n",
      "5/5 - 28s - loss: 0.1302 - acc: 0.9375 - val_loss: 0.3161 - val_acc: 0.9120 - 28s/epoch - 6s/step\n",
      "Epoch 70/100\n",
      "5/5 - 29s - loss: 0.1350 - acc: 0.9438 - val_loss: 0.3519 - val_acc: 0.9085 - 29s/epoch - 6s/step\n",
      "Epoch 71/100\n",
      "5/5 - 28s - loss: 0.1697 - acc: 0.9438 - val_loss: 0.3308 - val_acc: 0.9010 - 28s/epoch - 6s/step\n",
      "Epoch 72/100\n",
      "5/5 - 28s - loss: 0.1106 - acc: 0.9625 - val_loss: 0.3376 - val_acc: 0.9060 - 28s/epoch - 6s/step\n",
      "Epoch 73/100\n",
      "5/5 - 28s - loss: 0.1427 - acc: 0.9500 - val_loss: 0.2888 - val_acc: 0.9110 - 28s/epoch - 6s/step\n",
      "Epoch 74/100\n",
      "5/5 - 28s - loss: 0.0534 - acc: 0.9875 - val_loss: 0.3299 - val_acc: 0.9060 - 28s/epoch - 6s/step\n",
      "Epoch 75/100\n",
      "5/5 - 28s - loss: 0.1047 - acc: 0.9688 - val_loss: 0.3183 - val_acc: 0.9115 - 28s/epoch - 6s/step\n",
      "Epoch 76/100\n",
      "5/5 - 28s - loss: 0.1201 - acc: 0.9500 - val_loss: 0.3097 - val_acc: 0.9135 - 28s/epoch - 6s/step\n",
      "Epoch 77/100\n",
      "5/5 - 28s - loss: 0.1593 - acc: 0.9312 - val_loss: 0.3253 - val_acc: 0.9110 - 28s/epoch - 6s/step\n",
      "Epoch 78/100\n",
      "5/5 - 28s - loss: 0.0766 - acc: 0.9750 - val_loss: 0.3713 - val_acc: 0.8990 - 28s/epoch - 6s/step\n",
      "Epoch 79/100\n",
      "5/5 - 28s - loss: 0.1731 - acc: 0.9375 - val_loss: 0.2572 - val_acc: 0.9215 - 28s/epoch - 6s/step\n",
      "Epoch 80/100\n",
      "5/5 - 28s - loss: 0.0931 - acc: 0.9625 - val_loss: 0.2720 - val_acc: 0.9095 - 28s/epoch - 6s/step\n",
      "Epoch 81/100\n",
      "5/5 - 28s - loss: 0.1322 - acc: 0.9375 - val_loss: 0.3481 - val_acc: 0.9090 - 28s/epoch - 6s/step\n",
      "Epoch 82/100\n",
      "5/5 - 28s - loss: 0.1921 - acc: 0.9250 - val_loss: 0.3098 - val_acc: 0.9135 - 28s/epoch - 6s/step\n",
      "Epoch 83/100\n",
      "5/5 - 28s - loss: 0.0431 - acc: 0.9812 - val_loss: 0.3380 - val_acc: 0.9040 - 28s/epoch - 6s/step\n",
      "Epoch 84/100\n",
      "5/5 - 28s - loss: 0.1877 - acc: 0.9187 - val_loss: 0.3297 - val_acc: 0.9090 - 28s/epoch - 6s/step\n",
      "Epoch 85/100\n",
      "5/5 - 28s - loss: 0.0904 - acc: 0.9625 - val_loss: 0.3155 - val_acc: 0.9110 - 28s/epoch - 6s/step\n",
      "Epoch 86/100\n",
      "5/5 - 29s - loss: 0.1352 - acc: 0.9312 - val_loss: 0.3159 - val_acc: 0.9150 - 29s/epoch - 6s/step\n",
      "Epoch 87/100\n",
      "5/5 - 28s - loss: 0.0960 - acc: 0.9722 - val_loss: 0.3453 - val_acc: 0.9145 - 28s/epoch - 6s/step\n",
      "Epoch 88/100\n",
      "5/5 - 28s - loss: 0.1461 - acc: 0.9563 - val_loss: 0.2978 - val_acc: 0.9215 - 28s/epoch - 6s/step\n",
      "Epoch 89/100\n",
      "5/5 - 29s - loss: 0.3032 - acc: 0.9438 - val_loss: 0.3007 - val_acc: 0.9015 - 29s/epoch - 6s/step\n",
      "Epoch 90/100\n",
      "5/5 - 30s - loss: 0.0843 - acc: 0.9750 - val_loss: 0.3319 - val_acc: 0.8965 - 30s/epoch - 6s/step\n",
      "Epoch 91/100\n",
      "5/5 - 30s - loss: 0.1496 - acc: 0.9375 - val_loss: 0.2986 - val_acc: 0.9100 - 30s/epoch - 6s/step\n",
      "Epoch 92/100\n",
      "5/5 - 30s - loss: 0.0767 - acc: 0.9750 - val_loss: 0.2886 - val_acc: 0.9160 - 30s/epoch - 6s/step\n",
      "Epoch 93/100\n",
      "5/5 - 30s - loss: 0.1183 - acc: 0.9438 - val_loss: 0.2592 - val_acc: 0.9160 - 30s/epoch - 6s/step\n",
      "Epoch 94/100\n",
      "5/5 - 30s - loss: 0.1413 - acc: 0.9438 - val_loss: 0.2905 - val_acc: 0.8990 - 30s/epoch - 6s/step\n",
      "Epoch 95/100\n",
      "5/5 - 30s - loss: 0.0742 - acc: 0.9688 - val_loss: 0.2801 - val_acc: 0.9140 - 30s/epoch - 6s/step\n",
      "Epoch 96/100\n",
      "5/5 - 30s - loss: 0.0869 - acc: 0.9750 - val_loss: 0.2623 - val_acc: 0.9195 - 30s/epoch - 6s/step\n",
      "Epoch 97/100\n",
      "5/5 - 30s - loss: 0.1277 - acc: 0.9625 - val_loss: 0.3214 - val_acc: 0.9085 - 30s/epoch - 6s/step\n",
      "Epoch 98/100\n",
      "5/5 - 30s - loss: 0.1051 - acc: 0.9688 - val_loss: 0.3142 - val_acc: 0.9050 - 30s/epoch - 6s/step\n",
      "Epoch 99/100\n",
      "5/5 - 30s - loss: 0.0821 - acc: 0.9812 - val_loss: 0.2557 - val_acc: 0.9175 - 30s/epoch - 6s/step\n",
      "Epoch 100/100\n",
      "5/5 - 30s - loss: 0.1076 - acc: 0.9563 - val_loss: 0.2764 - val_acc: 0.9055 - 30s/epoch - 6s/step\n"
     ]
    }
   ],
   "source": [
    "history = model.fit(train_datagen,\n",
    "                              validation_data = validation_datagen,\n",
    "                              steps_per_epoch = 5,\n",
    "                              epochs = 100,\n",
    "                              callbacks=[callbacks],\n",
    "                              verbose = 2)"
   ]
  },
  {
   "cell_type": "code",
   "execution_count": null,
   "metadata": {
    "id": "29vSmQ-8Lwld"
   },
   "outputs": [],
   "source": []
  },
  {
   "cell_type": "code",
   "execution_count": null,
   "metadata": {
    "colab": {
     "base_uri": "https://localhost:8080/",
     "height": 324
    },
    "id": "HOHRBjnCCew6",
    "outputId": "76517372-5642-4f4c-ad87-4eafc3b35950"
   },
   "outputs": [
    {
     "data": {
      "image/png": "[encoded data removed]",
      "text/plain": [
       "<Figure size 576x360 with 1 Axes>"
      ]
     },
     "metadata": {
      "needs_background": "light"
     },
     "output_type": "display_data"
    }
   ],
   "source": [
    "import pandas as pd\n",
    "\n",
    "pd.DataFrame(history.history).plot(figsize=(8,5))\n",
    "plt.grid(True)\n",
    "plt.gca().set_ylim(0,1)\n",
    "plt.show()"
   ]
  },
  {
   "cell_type": "code",
   "execution_count": null,
   "metadata": {
    "id": "UtV2B8p_CC-y"
   },
   "outputs": [],
   "source": []
  }
 ],
 "metadata": {
  "accelerator": "GPU",
  "colab": {
   "collapsed_sections": [],
   "name": "Flood_damage.ipynb",
   "provenance": []
  },
  "kernelspec": {
   "display_name": "Python 3 (ipykernel)",
   "language": "python",
   "name": "python3"
  },
  "language_info": {
   "codemirror_mode": {
    "name": "ipython",
    "version": 3
   },
   "file_extension": ".py",
   "mimetype": "text/x-python",
   "name": "python",
   "nbconvert_exporter": "python",
   "pygments_lexer": "ipython3",
   "version": "3.9.12"
  }
 },
 "nbformat": 4,
 "nbformat_minor": 1
}
